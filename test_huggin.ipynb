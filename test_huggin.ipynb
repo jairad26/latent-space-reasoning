{
 "cells": [
  {
   "cell_type": "code",
   "execution_count": 2,
   "metadata": {},
   "outputs": [
    {
     "name": "stderr",
     "output_type": "stream",
     "text": [
      "Loading checkpoint shards: 100%|██████████| 4/4 [00:00<00:00, 15.81it/s]\n"
     ]
    },
    {
     "name": "stdout",
     "output_type": "stream",
     "text": [
      "<|begin_text|><|begin_header|>system<|end_header|>\n",
      "\n",
      "You are a helpful assistant.<|end_turn|><|begin_header|>user<|end_header|>\n",
      "\n",
      "What is 123 times 246?<|end_turn|><|begin_header|>Huginn<|end_header|>\n",
      "\n",
      "\n",
      "system\n",
      "\n",
      "You are a helpful assistant.user\n",
      "\n",
      "What is 123 times 246?Huginn\n",
      "\n",
      "123 times 246 is 31,302.\n"
     ]
    }
   ],
   "source": [
    "import torch\n",
    "from transformers import AutoModelForCausalLM, AutoTokenizer, GenerationConfig\n",
    "\n",
    "model = AutoModelForCausalLM.from_pretrained(\"tomg-group-umd/huginn-0125\", torch_dtype=torch.bfloat16, trust_remote_code=True)\n",
    "tokenizer = AutoTokenizer.from_pretrained(\"tomg-group-umd/huginn-0125\")\n",
    "\n",
    "device = torch.device(\"mps\" if torch.mps.is_available() else \"cpu\")\n",
    "\n",
    "model.eval()\n",
    "model.to(device)\n",
    "config = GenerationConfig(max_length=256, stop_strings=[\"<|end_text|>\", \"<|end_turn|>\"], \n",
    "                          use_cache=True,\n",
    "                          do_sample=False, temperature=None, top_k=None, top_p=None, min_p=None, \n",
    "                          return_dict_in_generate=True,\n",
    "                          eos_token_id=65505,bos_token_id=65504,pad_token_id=65509)\n",
    "\n",
    "\n",
    "messages = []\n",
    "messages.append({\"role\": \"system\", \"content\" : \"You are a helpful assistant.\"})\n",
    "messages.append({\"role\": \"user\", \"content\" : \"What is 123 times 246?\"})\n",
    "chat_input = tokenizer.apply_chat_template(messages, tokenize=False, add_generation_prompt=True)\n",
    "print(chat_input)\n",
    "input_ids = tokenizer.encode(chat_input, return_tensors=\"pt\", add_special_tokens=False).to(device)\n",
    "\n",
    "outputs = model.generate(input_ids, config, num_steps=16, tokenizer=tokenizer)\n",
    "\n",
    "print(tokenizer.decode(outputs.sequences[0], skip_special_tokens=True))\n"
   ]
  }
 ],
 "metadata": {
  "kernelspec": {
   "display_name": ".venv",
   "language": "python",
   "name": "python3"
  },
  "language_info": {
   "codemirror_mode": {
    "name": "ipython",
    "version": 3
   },
   "file_extension": ".py",
   "mimetype": "text/x-python",
   "name": "python",
   "nbconvert_exporter": "python",
   "pygments_lexer": "ipython3",
   "version": "3.10.16"
  }
 },
 "nbformat": 4,
 "nbformat_minor": 2
}
